{
  "cells": [
    {
      "cell_type": "markdown",
      "source": [
        "# Data cleaning and preparation"
      ],
      "metadata": {
        "id": "yF4kb0Ewoegz"
      }
    },
    {
      "cell_type": "markdown",
      "metadata": {
        "id": "VZb2_7ylVqck"
      },
      "source": [
        "##  Import Libraries  \n",
        "\n",
        "In this step, we import all the Python libraries required for the project:  \n",
        "- **pandas, numpy** – for data manipulation and numerical operations  \n",
        "- **matplotlib** – for creating visualizations  \n",
        "- **datetime** – for working with date and time data"
      ]
    },
    {
      "cell_type": "code",
      "execution_count": null,
      "metadata": {
        "id": "vUINzvdMWDPA"
      },
      "outputs": [],
      "source": [
        "# Suppress FutureWarnings for cleaner output\n",
        "import warnings\n",
        "warnings.filterwarnings(\"ignore\", category=FutureWarning)"
      ]
    },
    {
      "cell_type": "code",
      "execution_count": null,
      "metadata": {
        "colab": {
          "base_uri": "https://localhost:8080/"
        },
        "outputId": "153ab759-41df-4bec-9265-abd61de8a4a2",
        "id": "l7pUQPmvWVUQ"
      },
      "outputs": [
        {
          "output_type": "stream",
          "name": "stdout",
          "text": [
            "Libraries imported successfully.\n"
          ]
        }
      ],
      "source": [
        "# Data manipulation and analysis\n",
        "import pandas as pd\n",
        "import numpy as np\n",
        "\n",
        "# Date handling\n",
        "from datetime import datetime\n",
        "\n",
        "print(\"Libraries imported successfully.\")\n"
      ]
    },
    {
      "cell_type": "markdown",
      "metadata": {
        "id": "7ae696a2"
      },
      "source": [
        "## Load the Dataset\n",
        "\n",
        "In this step, we load the *Lagos Air Pollution & Health Data* from the provided Excel file into a Pandas DataFrame.\\\n",
        "Using Pandas’ `read_excel()` function allows us to easily access and manipulate the dataset.\\\n",
        "After loading, we preview the first few rows to understand the structure of the data."
      ]
    },
    {
      "cell_type": "code",
      "source": [
        "from google.colab import drive\n",
        "drive.mount('/content/drive')\n"
      ],
      "metadata": {
        "id": "674T0YFmus1t",
        "colab": {
          "base_uri": "https://localhost:8080/"
        },
        "outputId": "24dc8d23-8233-4261-d50f-92b3164e89fd"
      },
      "execution_count": null,
      "outputs": [
        {
          "output_type": "stream",
          "name": "stdout",
          "text": [
            "Mounted at /content/drive\n"
          ]
        }
      ]
    },
    {
      "cell_type": "code",
      "metadata": {
        "id": "d205a418",
        "colab": {
          "base_uri": "https://localhost:8080/"
        },
        "outputId": "b17a24d4-1afc-4f20-eaa5-4c5f9c1d76d8"
      },
      "source": [
        "file_path = '/content/drive/MyDrive/lagos_air_pollution_health_data.csv (1).xlsx'\n",
        "\n",
        "# Load Excel file\n",
        "df = pd.read_excel(file_path)\n",
        "\n",
        "# Quick check to confirm data loaded\n",
        "print(df.head())"
      ],
      "execution_count": null,
      "outputs": [
        {
          "output_type": "stream",
          "name": "stdout",
          "text": [
            "           C       date  pm2_5    pm10    no2    so2     o3 hospital_id  \\\n",
            "0  I K E J A 2021-01-01  65.64  135.39  45.21  22.29  34.84  HOSP_IKE_1   \n",
            "1      Ikeja 2021-01-01  76.49  116.65  50.01  10.20  32.19  HOSP_IKE_4   \n",
            "2  I K E J A 2021-01-01  55.50  101.72  39.10  21.91  49.99  HOSP_IKE_1   \n",
            "3      Ikeja 2021-01-01  56.37  138.53  46.40  28.13  24.89  HOSP_IKE_8   \n",
            "4  I K E J A 2021-01-01  93.77  123.73  59.55  11.82  29.73  HOSP_IKE_3   \n",
            "\n",
            "   respiratory_cases  avg_age_of_patients  weather_temperature  \\\n",
            "0               16.0                 44.0                 25.1   \n",
            "1               12.0                 33.1                 25.3   \n",
            "2               20.0                 33.5                 27.7   \n",
            "3               15.0                 49.3                 32.8   \n",
            "4               20.0                 45.4                 27.9   \n",
            "\n",
            "   weather_humidity  wind_speed  rainfall_mm  population_density  \\\n",
            "0              40.0         3.1          2.2             22937.7   \n",
            "1              53.5         3.8          2.2             21787.8   \n",
            "2              72.3         4.7          1.0             14798.0   \n",
            "3              62.9         4.8          8.2             18013.6   \n",
            "4              64.8         3.4          9.1             25980.3   \n",
            "\n",
            "   industrial_activity_index  \n",
            "0                       0.87  \n",
            "1                       0.32  \n",
            "2                       0.78  \n",
            "3                       0.24  \n",
            "4                       0.30  \n"
          ]
        }
      ]
    },
    {
      "cell_type": "markdown",
      "metadata": {
        "id": "5b53d532"
      },
      "source": [
        "##  Inspect the Dataset\n",
        "\n",
        "In this step, we perform a quick inspection of the dataset to understand:\n",
        "- The first few records (to get a feel for the data)\n",
        "- The column names and their data types\n",
        "- The overall size of the dataset\\\n",
        "This helps us confirm that the file was loaded correctly and provides an overview before cleaning or analysis."
      ]
    },
    {
      "cell_type": "code",
      "metadata": {
        "id": "9275004b",
        "colab": {
          "base_uri": "https://localhost:8080/",
          "height": 365
        },
        "outputId": "a665fc7d-4e6a-488d-a9ea-2b535355c6f2"
      },
      "source": [
        "# View the first 5 rows\n",
        "df.head()"
      ],
      "execution_count": null,
      "outputs": [
        {
          "output_type": "execute_result",
          "data": {
            "text/plain": [
              "           C       date  pm2_5    pm10    no2    so2     o3 hospital_id  \\\n",
              "0  I K E J A 2021-01-01  65.64  135.39  45.21  22.29  34.84  HOSP_IKE_1   \n",
              "1      Ikeja 2021-01-01  76.49  116.65  50.01  10.20  32.19  HOSP_IKE_4   \n",
              "2  I K E J A 2021-01-01  55.50  101.72  39.10  21.91  49.99  HOSP_IKE_1   \n",
              "3      Ikeja 2021-01-01  56.37  138.53  46.40  28.13  24.89  HOSP_IKE_8   \n",
              "4  I K E J A 2021-01-01  93.77  123.73  59.55  11.82  29.73  HOSP_IKE_3   \n",
              "\n",
              "   respiratory_cases  avg_age_of_patients  weather_temperature  \\\n",
              "0               16.0                 44.0                 25.1   \n",
              "1               12.0                 33.1                 25.3   \n",
              "2               20.0                 33.5                 27.7   \n",
              "3               15.0                 49.3                 32.8   \n",
              "4               20.0                 45.4                 27.9   \n",
              "\n",
              "   weather_humidity  wind_speed  rainfall_mm  population_density  \\\n",
              "0              40.0         3.1          2.2             22937.7   \n",
              "1              53.5         3.8          2.2             21787.8   \n",
              "2              72.3         4.7          1.0             14798.0   \n",
              "3              62.9         4.8          8.2             18013.6   \n",
              "4              64.8         3.4          9.1             25980.3   \n",
              "\n",
              "   industrial_activity_index  \n",
              "0                       0.87  \n",
              "1                       0.32  \n",
              "2                       0.78  \n",
              "3                       0.24  \n",
              "4                       0.30  "
            ],
            "text/html": [
              "\n",
              "  <div id=\"df-5f2306ca-9725-43b4-b200-56b2aab3cb73\" class=\"colab-df-container\">\n",
              "    <div>\n",
              "<style scoped>\n",
              "    .dataframe tbody tr th:only-of-type {\n",
              "        vertical-align: middle;\n",
              "    }\n",
              "\n",
              "    .dataframe tbody tr th {\n",
              "        vertical-align: top;\n",
              "    }\n",
              "\n",
              "    .dataframe thead th {\n",
              "        text-align: right;\n",
              "    }\n",
              "</style>\n",
              "<table border=\"1\" class=\"dataframe\">\n",
              "  <thead>\n",
              "    <tr style=\"text-align: right;\">\n",
              "      <th></th>\n",
              "      <th>C</th>\n",
              "      <th>date</th>\n",
              "      <th>pm2_5</th>\n",
              "      <th>pm10</th>\n",
              "      <th>no2</th>\n",
              "      <th>so2</th>\n",
              "      <th>o3</th>\n",
              "      <th>hospital_id</th>\n",
              "      <th>respiratory_cases</th>\n",
              "      <th>avg_age_of_patients</th>\n",
              "      <th>weather_temperature</th>\n",
              "      <th>weather_humidity</th>\n",
              "      <th>wind_speed</th>\n",
              "      <th>rainfall_mm</th>\n",
              "      <th>population_density</th>\n",
              "      <th>industrial_activity_index</th>\n",
              "    </tr>\n",
              "  </thead>\n",
              "  <tbody>\n",
              "    <tr>\n",
              "      <th>0</th>\n",
              "      <td>I K E J A</td>\n",
              "      <td>2021-01-01</td>\n",
              "      <td>65.64</td>\n",
              "      <td>135.39</td>\n",
              "      <td>45.21</td>\n",
              "      <td>22.29</td>\n",
              "      <td>34.84</td>\n",
              "      <td>HOSP_IKE_1</td>\n",
              "      <td>16.0</td>\n",
              "      <td>44.0</td>\n",
              "      <td>25.1</td>\n",
              "      <td>40.0</td>\n",
              "      <td>3.1</td>\n",
              "      <td>2.2</td>\n",
              "      <td>22937.7</td>\n",
              "      <td>0.87</td>\n",
              "    </tr>\n",
              "    <tr>\n",
              "      <th>1</th>\n",
              "      <td>Ikeja</td>\n",
              "      <td>2021-01-01</td>\n",
              "      <td>76.49</td>\n",
              "      <td>116.65</td>\n",
              "      <td>50.01</td>\n",
              "      <td>10.20</td>\n",
              "      <td>32.19</td>\n",
              "      <td>HOSP_IKE_4</td>\n",
              "      <td>12.0</td>\n",
              "      <td>33.1</td>\n",
              "      <td>25.3</td>\n",
              "      <td>53.5</td>\n",
              "      <td>3.8</td>\n",
              "      <td>2.2</td>\n",
              "      <td>21787.8</td>\n",
              "      <td>0.32</td>\n",
              "    </tr>\n",
              "    <tr>\n",
              "      <th>2</th>\n",
              "      <td>I K E J A</td>\n",
              "      <td>2021-01-01</td>\n",
              "      <td>55.50</td>\n",
              "      <td>101.72</td>\n",
              "      <td>39.10</td>\n",
              "      <td>21.91</td>\n",
              "      <td>49.99</td>\n",
              "      <td>HOSP_IKE_1</td>\n",
              "      <td>20.0</td>\n",
              "      <td>33.5</td>\n",
              "      <td>27.7</td>\n",
              "      <td>72.3</td>\n",
              "      <td>4.7</td>\n",
              "      <td>1.0</td>\n",
              "      <td>14798.0</td>\n",
              "      <td>0.78</td>\n",
              "    </tr>\n",
              "    <tr>\n",
              "      <th>3</th>\n",
              "      <td>Ikeja</td>\n",
              "      <td>2021-01-01</td>\n",
              "      <td>56.37</td>\n",
              "      <td>138.53</td>\n",
              "      <td>46.40</td>\n",
              "      <td>28.13</td>\n",
              "      <td>24.89</td>\n",
              "      <td>HOSP_IKE_8</td>\n",
              "      <td>15.0</td>\n",
              "      <td>49.3</td>\n",
              "      <td>32.8</td>\n",
              "      <td>62.9</td>\n",
              "      <td>4.8</td>\n",
              "      <td>8.2</td>\n",
              "      <td>18013.6</td>\n",
              "      <td>0.24</td>\n",
              "    </tr>\n",
              "    <tr>\n",
              "      <th>4</th>\n",
              "      <td>I K E J A</td>\n",
              "      <td>2021-01-01</td>\n",
              "      <td>93.77</td>\n",
              "      <td>123.73</td>\n",
              "      <td>59.55</td>\n",
              "      <td>11.82</td>\n",
              "      <td>29.73</td>\n",
              "      <td>HOSP_IKE_3</td>\n",
              "      <td>20.0</td>\n",
              "      <td>45.4</td>\n",
              "      <td>27.9</td>\n",
              "      <td>64.8</td>\n",
              "      <td>3.4</td>\n",
              "      <td>9.1</td>\n",
              "      <td>25980.3</td>\n",
              "      <td>0.30</td>\n",
              "    </tr>\n",
              "  </tbody>\n",
              "</table>\n",
              "</div>\n",
              "    <div class=\"colab-df-buttons\">\n",
              "\n",
              "  <div class=\"colab-df-container\">\n",
              "    <button class=\"colab-df-convert\" onclick=\"convertToInteractive('df-5f2306ca-9725-43b4-b200-56b2aab3cb73')\"\n",
              "            title=\"Convert this dataframe to an interactive table.\"\n",
              "            style=\"display:none;\">\n",
              "\n",
              "  <svg xmlns=\"http://www.w3.org/2000/svg\" height=\"24px\" viewBox=\"0 -960 960 960\">\n",
              "    <path d=\"M120-120v-720h720v720H120Zm60-500h600v-160H180v160Zm220 220h160v-160H400v160Zm0 220h160v-160H400v160ZM180-400h160v-160H180v160Zm440 0h160v-160H620v160ZM180-180h160v-160H180v160Zm440 0h160v-160H620v160Z\"/>\n",
              "  </svg>\n",
              "    </button>\n",
              "\n",
              "  <style>\n",
              "    .colab-df-container {\n",
              "      display:flex;\n",
              "      gap: 12px;\n",
              "    }\n",
              "\n",
              "    .colab-df-convert {\n",
              "      background-color: #E8F0FE;\n",
              "      border: none;\n",
              "      border-radius: 50%;\n",
              "      cursor: pointer;\n",
              "      display: none;\n",
              "      fill: #1967D2;\n",
              "      height: 32px;\n",
              "      padding: 0 0 0 0;\n",
              "      width: 32px;\n",
              "    }\n",
              "\n",
              "    .colab-df-convert:hover {\n",
              "      background-color: #E2EBFA;\n",
              "      box-shadow: 0px 1px 2px rgba(60, 64, 67, 0.3), 0px 1px 3px 1px rgba(60, 64, 67, 0.15);\n",
              "      fill: #174EA6;\n",
              "    }\n",
              "\n",
              "    .colab-df-buttons div {\n",
              "      margin-bottom: 4px;\n",
              "    }\n",
              "\n",
              "    [theme=dark] .colab-df-convert {\n",
              "      background-color: #3B4455;\n",
              "      fill: #D2E3FC;\n",
              "    }\n",
              "\n",
              "    [theme=dark] .colab-df-convert:hover {\n",
              "      background-color: #434B5C;\n",
              "      box-shadow: 0px 1px 3px 1px rgba(0, 0, 0, 0.15);\n",
              "      filter: drop-shadow(0px 1px 2px rgba(0, 0, 0, 0.3));\n",
              "      fill: #FFFFFF;\n",
              "    }\n",
              "  </style>\n",
              "\n",
              "    <script>\n",
              "      const buttonEl =\n",
              "        document.querySelector('#df-5f2306ca-9725-43b4-b200-56b2aab3cb73 button.colab-df-convert');\n",
              "      buttonEl.style.display =\n",
              "        google.colab.kernel.accessAllowed ? 'block' : 'none';\n",
              "\n",
              "      async function convertToInteractive(key) {\n",
              "        const element = document.querySelector('#df-5f2306ca-9725-43b4-b200-56b2aab3cb73');\n",
              "        const dataTable =\n",
              "          await google.colab.kernel.invokeFunction('convertToInteractive',\n",
              "                                                    [key], {});\n",
              "        if (!dataTable) return;\n",
              "\n",
              "        const docLinkHtml = 'Like what you see? Visit the ' +\n",
              "          '<a target=\"_blank\" href=https://colab.research.google.com/notebooks/data_table.ipynb>data table notebook</a>'\n",
              "          + ' to learn more about interactive tables.';\n",
              "        element.innerHTML = '';\n",
              "        dataTable['output_type'] = 'display_data';\n",
              "        await google.colab.output.renderOutput(dataTable, element);\n",
              "        const docLink = document.createElement('div');\n",
              "        docLink.innerHTML = docLinkHtml;\n",
              "        element.appendChild(docLink);\n",
              "      }\n",
              "    </script>\n",
              "  </div>\n",
              "\n",
              "\n",
              "    <div id=\"df-18b0a1c5-25cf-449b-90f7-bbe3b6042bdd\">\n",
              "      <button class=\"colab-df-quickchart\" onclick=\"quickchart('df-18b0a1c5-25cf-449b-90f7-bbe3b6042bdd')\"\n",
              "                title=\"Suggest charts\"\n",
              "                style=\"display:none;\">\n",
              "\n",
              "<svg xmlns=\"http://www.w3.org/2000/svg\" height=\"24px\"viewBox=\"0 0 24 24\"\n",
              "     width=\"24px\">\n",
              "    <g>\n",
              "        <path d=\"M19 3H5c-1.1 0-2 .9-2 2v14c0 1.1.9 2 2 2h14c1.1 0 2-.9 2-2V5c0-1.1-.9-2-2-2zM9 17H7v-7h2v7zm4 0h-2V7h2v10zm4 0h-2v-4h2v4z\"/>\n",
              "    </g>\n",
              "</svg>\n",
              "      </button>\n",
              "\n",
              "<style>\n",
              "  .colab-df-quickchart {\n",
              "      --bg-color: #E8F0FE;\n",
              "      --fill-color: #1967D2;\n",
              "      --hover-bg-color: #E2EBFA;\n",
              "      --hover-fill-color: #174EA6;\n",
              "      --disabled-fill-color: #AAA;\n",
              "      --disabled-bg-color: #DDD;\n",
              "  }\n",
              "\n",
              "  [theme=dark] .colab-df-quickchart {\n",
              "      --bg-color: #3B4455;\n",
              "      --fill-color: #D2E3FC;\n",
              "      --hover-bg-color: #434B5C;\n",
              "      --hover-fill-color: #FFFFFF;\n",
              "      --disabled-bg-color: #3B4455;\n",
              "      --disabled-fill-color: #666;\n",
              "  }\n",
              "\n",
              "  .colab-df-quickchart {\n",
              "    background-color: var(--bg-color);\n",
              "    border: none;\n",
              "    border-radius: 50%;\n",
              "    cursor: pointer;\n",
              "    display: none;\n",
              "    fill: var(--fill-color);\n",
              "    height: 32px;\n",
              "    padding: 0;\n",
              "    width: 32px;\n",
              "  }\n",
              "\n",
              "  .colab-df-quickchart:hover {\n",
              "    background-color: var(--hover-bg-color);\n",
              "    box-shadow: 0 1px 2px rgba(60, 64, 67, 0.3), 0 1px 3px 1px rgba(60, 64, 67, 0.15);\n",
              "    fill: var(--button-hover-fill-color);\n",
              "  }\n",
              "\n",
              "  .colab-df-quickchart-complete:disabled,\n",
              "  .colab-df-quickchart-complete:disabled:hover {\n",
              "    background-color: var(--disabled-bg-color);\n",
              "    fill: var(--disabled-fill-color);\n",
              "    box-shadow: none;\n",
              "  }\n",
              "\n",
              "  .colab-df-spinner {\n",
              "    border: 2px solid var(--fill-color);\n",
              "    border-color: transparent;\n",
              "    border-bottom-color: var(--fill-color);\n",
              "    animation:\n",
              "      spin 1s steps(1) infinite;\n",
              "  }\n",
              "\n",
              "  @keyframes spin {\n",
              "    0% {\n",
              "      border-color: transparent;\n",
              "      border-bottom-color: var(--fill-color);\n",
              "      border-left-color: var(--fill-color);\n",
              "    }\n",
              "    20% {\n",
              "      border-color: transparent;\n",
              "      border-left-color: var(--fill-color);\n",
              "      border-top-color: var(--fill-color);\n",
              "    }\n",
              "    30% {\n",
              "      border-color: transparent;\n",
              "      border-left-color: var(--fill-color);\n",
              "      border-top-color: var(--fill-color);\n",
              "      border-right-color: var(--fill-color);\n",
              "    }\n",
              "    40% {\n",
              "      border-color: transparent;\n",
              "      border-right-color: var(--fill-color);\n",
              "      border-top-color: var(--fill-color);\n",
              "    }\n",
              "    60% {\n",
              "      border-color: transparent;\n",
              "      border-right-color: var(--fill-color);\n",
              "    }\n",
              "    80% {\n",
              "      border-color: transparent;\n",
              "      border-right-color: var(--fill-color);\n",
              "      border-bottom-color: var(--fill-color);\n",
              "    }\n",
              "    90% {\n",
              "      border-color: transparent;\n",
              "      border-bottom-color: var(--fill-color);\n",
              "    }\n",
              "  }\n",
              "</style>\n",
              "\n",
              "      <script>\n",
              "        async function quickchart(key) {\n",
              "          const quickchartButtonEl =\n",
              "            document.querySelector('#' + key + ' button');\n",
              "          quickchartButtonEl.disabled = true;  // To prevent multiple clicks.\n",
              "          quickchartButtonEl.classList.add('colab-df-spinner');\n",
              "          try {\n",
              "            const charts = await google.colab.kernel.invokeFunction(\n",
              "                'suggestCharts', [key], {});\n",
              "          } catch (error) {\n",
              "            console.error('Error during call to suggestCharts:', error);\n",
              "          }\n",
              "          quickchartButtonEl.classList.remove('colab-df-spinner');\n",
              "          quickchartButtonEl.classList.add('colab-df-quickchart-complete');\n",
              "        }\n",
              "        (() => {\n",
              "          let quickchartButtonEl =\n",
              "            document.querySelector('#df-18b0a1c5-25cf-449b-90f7-bbe3b6042bdd button');\n",
              "          quickchartButtonEl.style.display =\n",
              "            google.colab.kernel.accessAllowed ? 'block' : 'none';\n",
              "        })();\n",
              "      </script>\n",
              "    </div>\n",
              "\n",
              "    </div>\n",
              "  </div>\n"
            ],
            "application/vnd.google.colaboratory.intrinsic+json": {
              "type": "dataframe",
              "variable_name": "df"
            }
          },
          "metadata": {},
          "execution_count": 8
        }
      ]
    },
    {
      "cell_type": "code",
      "metadata": {
        "id": "646eaf46",
        "colab": {
          "base_uri": "https://localhost:8080/"
        },
        "outputId": "03be4394-dfd4-4395-c053-c41985cb5bc7"
      },
      "source": [
        "# Check basic information about the dataset\n",
        "df.info()"
      ],
      "execution_count": null,
      "outputs": [
        {
          "output_type": "stream",
          "name": "stdout",
          "text": [
            "<class 'pandas.core.frame.DataFrame'>\n",
            "RangeIndex: 258420 entries, 0 to 258419\n",
            "Data columns (total 16 columns):\n",
            " #   Column                     Non-Null Count   Dtype         \n",
            "---  ------                     --------------   -----         \n",
            " 0   C                          258392 non-null  object        \n",
            " 1   date                       258397 non-null  datetime64[ns]\n",
            " 2   pm2_5                      258417 non-null  float64       \n",
            " 3   pm10                       258411 non-null  float64       \n",
            " 4   no2                        258419 non-null  float64       \n",
            " 5   so2                        258412 non-null  float64       \n",
            " 6   o3                         258413 non-null  float64       \n",
            " 7   hospital_id                258418 non-null  object        \n",
            " 8   respiratory_cases          258413 non-null  float64       \n",
            " 9   avg_age_of_patients        258404 non-null  float64       \n",
            " 10  weather_temperature        258416 non-null  float64       \n",
            " 11  weather_humidity           258414 non-null  float64       \n",
            " 12  wind_speed                 258416 non-null  float64       \n",
            " 13  rainfall_mm                258417 non-null  float64       \n",
            " 14  population_density         258398 non-null  float64       \n",
            " 15  industrial_activity_index  258415 non-null  float64       \n",
            "dtypes: datetime64[ns](1), float64(13), object(2)\n",
            "memory usage: 31.5+ MB\n"
          ]
        }
      ]
    },
    {
      "cell_type": "code",
      "metadata": {
        "id": "344e2394",
        "colab": {
          "base_uri": "https://localhost:8080/"
        },
        "outputId": "b5c8307d-861c-4877-fa37-f8894dfcb88f"
      },
      "source": [
        "# Display the shape (rows, columns)\n",
        "print(f\"Dataset contains {df.shape[0]} rows and {df.shape[1]} columns.\")"
      ],
      "execution_count": null,
      "outputs": [
        {
          "output_type": "stream",
          "name": "stdout",
          "text": [
            "Dataset contains 258420 rows and 16 columns.\n"
          ]
        }
      ]
    },
    {
      "cell_type": "markdown",
      "metadata": {
        "id": "680a0e29"
      },
      "source": [
        "## Handle Missing Values\n",
        "\n",
        "Before cleaning the dataset, it is important to identify where data is missing.\\\n",
        "In this step, we:\n",
        "1. Display the number of missing values per column.\n",
        "2. Fill numerical columns with the **median** (less affected by extreme values).\n",
        "3. Fill categorical columns with the **mode** (most common value).\n",
        "4. Forward-fill missing dates.\n",
        "\n",
        "This ensures the dataset is complete and ready for analysis, while keeping the process transparent."
      ]
    },
    {
      "cell_type": "code",
      "metadata": {
        "id": "6590533e",
        "colab": {
          "base_uri": "https://localhost:8080/"
        },
        "outputId": "83ab4997-21a6-47a5-ab7f-4ca48886cbb3"
      },
      "source": [
        "# Display missing values per column\n",
        "print(\"Missing values before cleaning:\")\n",
        "print(df.isnull().sum().sort_values(ascending=False))"
      ],
      "execution_count": null,
      "outputs": [
        {
          "output_type": "stream",
          "name": "stdout",
          "text": [
            "Missing values before cleaning:\n",
            "C                            28\n",
            "date                         23\n",
            "population_density           22\n",
            "avg_age_of_patients          16\n",
            "pm10                          9\n",
            "so2                           8\n",
            "o3                            7\n",
            "respiratory_cases             7\n",
            "weather_humidity              6\n",
            "industrial_activity_index     5\n",
            "wind_speed                    4\n",
            "weather_temperature           4\n",
            "pm2_5                         3\n",
            "rainfall_mm                   3\n",
            "hospital_id                   2\n",
            "no2                           1\n",
            "dtype: int64\n"
          ]
        }
      ]
    },
    {
      "cell_type": "code",
      "metadata": {
        "id": "ca7ae4ea",
        "colab": {
          "base_uri": "https://localhost:8080/"
        },
        "outputId": "80039c8f-8ccb-4413-ccec-fdadf725ed7d"
      },
      "source": [
        "# Numerical columns – fill missing values with median\n",
        "num_cols = df.select_dtypes(include='number').columns\n",
        "df[num_cols] = df[num_cols].fillna(df[num_cols].median())\n",
        "\n",
        "# Categorical columns – fill missing values with mode\n",
        "cat_cols = df.select_dtypes(include='object').columns\n",
        "for col in cat_cols:\n",
        "    df[col] = df[col].fillna(df[col].mode()[0])\n",
        "\n",
        "# Fill missing dates using forward-fill method\n",
        "df['date'] = df['date'].fillna(method='ffill')\n",
        "\n",
        "# Extract year and month from the date column\n",
        "df['year'] = df['date'].dt.year\n",
        "df['month'] = df['date'].dt.month\n",
        "\n",
        "# Confirm that all missing values are handled\n",
        "print(\"\\nMissing values after cleaning:\")\n",
        "print(df.isnull().sum().sort_values(ascending=False))"
      ],
      "execution_count": null,
      "outputs": [
        {
          "output_type": "stream",
          "name": "stdout",
          "text": [
            "\n",
            "Missing values after cleaning:\n",
            "C                            0\n",
            "date                         0\n",
            "pm2_5                        0\n",
            "pm10                         0\n",
            "no2                          0\n",
            "so2                          0\n",
            "o3                           0\n",
            "hospital_id                  0\n",
            "respiratory_cases            0\n",
            "avg_age_of_patients          0\n",
            "weather_temperature          0\n",
            "weather_humidity             0\n",
            "wind_speed                   0\n",
            "rainfall_mm                  0\n",
            "population_density           0\n",
            "industrial_activity_index    0\n",
            "year                         0\n",
            "month                        0\n",
            "dtype: int64\n"
          ]
        },
        {
          "output_type": "stream",
          "name": "stderr",
          "text": [
            "/tmp/ipython-input-2245681498.py:11: FutureWarning: Series.fillna with 'method' is deprecated and will raise in a future version. Use obj.ffill() or obj.bfill() instead.\n",
            "  df['date'] = df['date'].fillna(method='ffill')\n"
          ]
        }
      ]
    },
    {
      "cell_type": "markdown",
      "metadata": {
        "id": "d6ffa97a"
      },
      "source": [
        "## standardizing city column\n",
        "Before analysis, we ensure our dataset is tidy and consistent:\n",
        "\n",
        "Rename columns to meaningful names.\n",
        "\n",
        "Standardize city names to avoid duplication due to inconsistent formatting (e.g., I K E J A → Ikeja).\n",
        "\n",
        "Convert columns to appropriate data types for more efficient storage and faster processing."
      ]
    },
    {
      "cell_type": "code",
      "metadata": {
        "id": "935edbf5",
        "colab": {
          "base_uri": "https://localhost:8080/"
        },
        "outputId": "f85cd98d-812a-4077-ecc0-67a33630f770"
      },
      "source": [
        "# Rename column 'c' to 'city'\n",
        "df.rename(columns={'C': 'city'}, inplace=True)\n",
        "\n",
        "# Standardize city names\n",
        "city_map = {\n",
        "    'I K E J A': 'Ikeja', 'ikeja': 'Ikeja', 'Ikeja': 'Ikeja',\n",
        "    'YABA': 'Yaba', 'yaba': 'Yaba', 'Yaba': 'Yaba',\n",
        "    'ajah': 'Ajah', 'A J A H': 'Ajah', 'Ajah': 'Ajah',\n",
        "    'surulere': 'Surulere', 'SURULERE': 'Surulere', 'Surulere': 'Surulere',\n",
        "    'LEKKI': 'Lekki', 'lekki': 'Lekki', 'Lekki': 'Lekki',\n",
        "}\n",
        "df['city'] = df['city'].map(city_map)\n",
        "\n",
        "# Convert columns to appropriate data types\n",
        "df['city'] = df['city'].astype('category')\n",
        "df['hospital_id'] = df['hospital_id'].astype('category')\n",
        "df['respiratory_cases'] = df['respiratory_cases'].astype(int)\n",
        "\n",
        "# Check data types after changes\n",
        "df.info()"
      ],
      "execution_count": null,
      "outputs": [
        {
          "output_type": "stream",
          "name": "stdout",
          "text": [
            "<class 'pandas.core.frame.DataFrame'>\n",
            "RangeIndex: 258420 entries, 0 to 258419\n",
            "Data columns (total 18 columns):\n",
            " #   Column                     Non-Null Count   Dtype         \n",
            "---  ------                     --------------   -----         \n",
            " 0   city                       258420 non-null  category      \n",
            " 1   date                       258420 non-null  datetime64[ns]\n",
            " 2   pm2_5                      258420 non-null  float64       \n",
            " 3   pm10                       258420 non-null  float64       \n",
            " 4   no2                        258420 non-null  float64       \n",
            " 5   so2                        258420 non-null  float64       \n",
            " 6   o3                         258420 non-null  float64       \n",
            " 7   hospital_id                258420 non-null  category      \n",
            " 8   respiratory_cases          258420 non-null  int64         \n",
            " 9   avg_age_of_patients        258420 non-null  float64       \n",
            " 10  weather_temperature        258420 non-null  float64       \n",
            " 11  weather_humidity           258420 non-null  float64       \n",
            " 12  wind_speed                 258420 non-null  float64       \n",
            " 13  rainfall_mm                258420 non-null  float64       \n",
            " 14  population_density         258420 non-null  float64       \n",
            " 15  industrial_activity_index  258420 non-null  float64       \n",
            " 16  year                       258420 non-null  int32         \n",
            " 17  month                      258420 non-null  int32         \n",
            "dtypes: category(2), datetime64[ns](1), float64(12), int32(2), int64(1)\n",
            "memory usage: 30.1 MB\n"
          ]
        }
      ]
    },
    {
      "cell_type": "code",
      "source": [
        "df.to_csv('/content/drive/MyDrive/Main_cleaned_air_pollution_data.csv', index=False)\n",
        "print(\"Cleaned data saved successfully!\")\n",
        "\n"
      ],
      "metadata": {
        "id": "a_u3t9mjsYAN",
        "colab": {
          "base_uri": "https://localhost:8080/"
        },
        "outputId": "1f02f653-d544-4ea2-a3b2-2fe450bdbfd5"
      },
      "execution_count": null,
      "outputs": [
        {
          "output_type": "stream",
          "name": "stdout",
          "text": [
            "Cleaned data saved successfully!\n"
          ]
        }
      ]
    }
  ],
  "metadata": {
    "colab": {
      "provenance": []
    },
    "kernelspec": {
      "display_name": "Python 3",
      "name": "python3"
    },
    "language_info": {
      "name": "python"
    }
  },
  "nbformat": 4,
  "nbformat_minor": 0
}